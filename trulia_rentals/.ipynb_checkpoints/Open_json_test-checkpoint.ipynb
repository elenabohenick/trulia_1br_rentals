{
 "cells": [
  {
   "cell_type": "code",
   "execution_count": 11,
   "metadata": {},
   "outputs": [],
   "source": [
    "import json\n",
    "import pandas as pd\n",
    "import codecs"
   ]
  },
  {
   "cell_type": "code",
   "execution_count": 25,
   "metadata": {},
   "outputs": [
    {
     "data": {
      "text/html": [
       "<div>\n",
       "<style scoped>\n",
       "    .dataframe tbody tr th:only-of-type {\n",
       "        vertical-align: middle;\n",
       "    }\n",
       "\n",
       "    .dataframe tbody tr th {\n",
       "        vertical-align: top;\n",
       "    }\n",
       "\n",
       "    .dataframe thead th {\n",
       "        text-align: right;\n",
       "    }\n",
       "</style>\n",
       "<table border=\"1\" class=\"dataframe\">\n",
       "  <thead>\n",
       "    <tr style=\"text-align: right;\">\n",
       "      <th></th>\n",
       "      <th>address</th>\n",
       "      <th>apt_features</th>\n",
       "      <th>days_on_trulia</th>\n",
       "      <th>elementary_school_count</th>\n",
       "      <th>high_school_count</th>\n",
       "      <th>middle_school_count</th>\n",
       "      <th>pets_allowed</th>\n",
       "      <th>price</th>\n",
       "      <th>sqft</th>\n",
       "      <th>url</th>\n",
       "      <th>year_built</th>\n",
       "      <th>zip_code</th>\n",
       "    </tr>\n",
       "  </thead>\n",
       "  <tbody>\n",
       "    <tr>\n",
       "      <th>0</th>\n",
       "      <td>150 West 58th Street, Manhattan, NY</td>\n",
       "      <td>[Elevator, Guarantor Ok, Guarantors, Live In S...</td>\n",
       "      <td>22</td>\n",
       "      <td>34</td>\n",
       "      <td>9</td>\n",
       "      <td>20</td>\n",
       "      <td>Small dogs\\n                                  ...</td>\n",
       "      <td>$3,230</td>\n",
       "      <td>NaN</td>\n",
       "      <td>/p/ny/manhattan/150-w-58th-st-manhattan-ny-100...</td>\n",
       "      <td>NaN</td>\n",
       "      <td>10019</td>\n",
       "    </tr>\n",
       "    <tr>\n",
       "      <th>1</th>\n",
       "      <td>220 East 72nd Street #22A, Manhattan, NY</td>\n",
       "      <td>[Elevator, Fitness Center, Dishwasher, Guarant...</td>\n",
       "      <td>176</td>\n",
       "      <td>29</td>\n",
       "      <td>9</td>\n",
       "      <td>21</td>\n",
       "      <td>No pets allowed</td>\n",
       "      <td>$4,600</td>\n",
       "      <td>885.0</td>\n",
       "      <td>/p/ny/manhattan/220-e-72nd-st-22a-manhattan-ny...</td>\n",
       "      <td>NaN</td>\n",
       "      <td>10021</td>\n",
       "    </tr>\n",
       "    <tr>\n",
       "      <th>2</th>\n",
       "      <td>235 West End Avenue #16A, Manhattan, NY</td>\n",
       "      <td>[Concierge, Elevator, Fitness Center, Children...</td>\n",
       "      <td>120</td>\n",
       "      <td>27</td>\n",
       "      <td>10</td>\n",
       "      <td>19</td>\n",
       "      <td>Small dogs\\n                                  ...</td>\n",
       "      <td>$3,100</td>\n",
       "      <td>700.0</td>\n",
       "      <td>/p/ny/manhattan/235-w-end-ave-16a-manhattan-ny...</td>\n",
       "      <td>NaN</td>\n",
       "      <td>10023</td>\n",
       "    </tr>\n",
       "    <tr>\n",
       "      <th>3</th>\n",
       "      <td>1450 1st Avenue #3FN, Manhattan, NY</td>\n",
       "      <td>[Guarantor Ok, Nyc Evacuation 6, Storage Room]</td>\n",
       "      <td>48</td>\n",
       "      <td>29</td>\n",
       "      <td>8</td>\n",
       "      <td>21</td>\n",
       "      <td>No pets allowed</td>\n",
       "      <td>$2,250</td>\n",
       "      <td>NaN</td>\n",
       "      <td>/p/ny/manhattan/1450-1st-ave-3fn-manhattan-ny-...</td>\n",
       "      <td>NaN</td>\n",
       "      <td>10021</td>\n",
       "    </tr>\n",
       "    <tr>\n",
       "      <th>4</th>\n",
       "      <td>157 East 2nd Street #2A, Manhattan, NY</td>\n",
       "      <td>[Elevator, Live In Super, Nyc Evacuation 5]</td>\n",
       "      <td>23</td>\n",
       "      <td>39</td>\n",
       "      <td>13</td>\n",
       "      <td>17</td>\n",
       "      <td>No pets allowed</td>\n",
       "      <td>$2,500</td>\n",
       "      <td>600.0</td>\n",
       "      <td>/p/ny/manhattan/157-e-2nd-st-2a-manhattan-ny-1...</td>\n",
       "      <td>NaN</td>\n",
       "      <td>10009</td>\n",
       "    </tr>\n",
       "  </tbody>\n",
       "</table>\n",
       "</div>"
      ],
      "text/plain": [
       "                                    address  \\\n",
       "0       150 West 58th Street, Manhattan, NY   \n",
       "1  220 East 72nd Street #22A, Manhattan, NY   \n",
       "2   235 West End Avenue #16A, Manhattan, NY   \n",
       "3       1450 1st Avenue #3FN, Manhattan, NY   \n",
       "4    157 East 2nd Street #2A, Manhattan, NY   \n",
       "\n",
       "                                        apt_features  days_on_trulia  \\\n",
       "0  [Elevator, Guarantor Ok, Guarantors, Live In S...              22   \n",
       "1  [Elevator, Fitness Center, Dishwasher, Guarant...             176   \n",
       "2  [Concierge, Elevator, Fitness Center, Children...             120   \n",
       "3     [Guarantor Ok, Nyc Evacuation 6, Storage Room]              48   \n",
       "4        [Elevator, Live In Super, Nyc Evacuation 5]              23   \n",
       "\n",
       "   elementary_school_count  high_school_count  middle_school_count  \\\n",
       "0                       34                  9                   20   \n",
       "1                       29                  9                   21   \n",
       "2                       27                 10                   19   \n",
       "3                       29                  8                   21   \n",
       "4                       39                 13                   17   \n",
       "\n",
       "                                        pets_allowed   price   sqft  \\\n",
       "0  Small dogs\\n                                  ...  $3,230    NaN   \n",
       "1                                    No pets allowed  $4,600  885.0   \n",
       "2  Small dogs\\n                                  ...  $3,100  700.0   \n",
       "3                                    No pets allowed  $2,250    NaN   \n",
       "4                                    No pets allowed  $2,500  600.0   \n",
       "\n",
       "                                                 url  year_built  zip_code  \n",
       "0  /p/ny/manhattan/150-w-58th-st-manhattan-ny-100...         NaN     10019  \n",
       "1  /p/ny/manhattan/220-e-72nd-st-22a-manhattan-ny...         NaN     10021  \n",
       "2  /p/ny/manhattan/235-w-end-ave-16a-manhattan-ny...         NaN     10023  \n",
       "3  /p/ny/manhattan/1450-1st-ave-3fn-manhattan-ny-...         NaN     10021  \n",
       "4  /p/ny/manhattan/157-e-2nd-st-2a-manhattan-ny-1...         NaN     10009  "
      ]
     },
     "execution_count": 25,
     "metadata": {},
     "output_type": "execute_result"
    }
   ],
   "source": [
    "df = pd.read_json(codecs.open('t3.json','r','utf-8'))\n",
    "df.head()"
   ]
  },
  {
   "cell_type": "code",
   "execution_count": 14,
   "metadata": {},
   "outputs": [
    {
     "name": "stdout",
     "output_type": "stream",
     "text": [
      "0    /p/ny/manhattan/157-e-2nd-st-2a-manhattan-ny-1...\n",
      "1    /p/ny/manhattan/220-e-72nd-st-22a-manhattan-ny...\n",
      "2    /p/ny/manhattan/235-w-end-ave-16a-manhattan-ny...\n",
      "3    /p/ny/manhattan/1450-1st-ave-3fn-manhattan-ny-...\n",
      "4    /p/ny/manhattan/150-w-58th-st-manhattan-ny-100...\n",
      "Name: url, dtype: object\n"
     ]
    }
   ],
   "source": []
  },
  {
   "cell_type": "code",
   "execution_count": 20,
   "metadata": {},
   "outputs": [],
   "source": [
    "a = ''"
   ]
  },
  {
   "cell_type": "code",
   "execution_count": 21,
   "metadata": {},
   "outputs": [
    {
     "data": {
      "text/plain": [
       "''"
      ]
     },
     "execution_count": 21,
     "metadata": {},
     "output_type": "execute_result"
    }
   ],
   "source": [
    "a"
   ]
  },
  {
   "cell_type": "code",
   "execution_count": 22,
   "metadata": {},
   "outputs": [
    {
     "data": {
      "text/plain": [
       "''"
      ]
     },
     "execution_count": 22,
     "metadata": {},
     "output_type": "execute_result"
    }
   ],
   "source": [
    "a.strip()"
   ]
  },
  {
   "cell_type": "code",
   "execution_count": null,
   "metadata": {},
   "outputs": [],
   "source": []
  }
 ],
 "metadata": {
  "kernelspec": {
   "display_name": "Python 3",
   "language": "python",
   "name": "python3"
  },
  "language_info": {
   "codemirror_mode": {
    "name": "ipython",
    "version": 3
   },
   "file_extension": ".py",
   "mimetype": "text/x-python",
   "name": "python",
   "nbconvert_exporter": "python",
   "pygments_lexer": "ipython3",
   "version": "3.6.4"
  }
 },
 "nbformat": 4,
 "nbformat_minor": 2
}
