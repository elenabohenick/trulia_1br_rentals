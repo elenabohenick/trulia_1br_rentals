{
 "cells": [
  {
   "cell_type": "markdown",
   "metadata": {
    "run_control": {
     "frozen": false,
     "read_only": false
    }
   },
   "source": [
    "# Scraping the Unscrapable\n",
    "\n",
    "## What happens if I try to parse my gmail with `requests` and `BeautifulSoup`?\n",
    "\n",
    "> Note: Websites change over time, so check the code and make html tag updates as necessary"
   ]
  },
  {
   "cell_type": "code",
   "execution_count": null,
   "metadata": {
    "ExecuteTime": {
     "end_time": "2018-04-17T14:41:05.119942Z",
     "start_time": "2018-04-17T14:41:04.336394Z"
    },
    "run_control": {
     "frozen": false,
     "read_only": false
    }
   },
   "outputs": [],
   "source": [
    "import requests\n",
    "from bs4 import BeautifulSoup\n",
    "\n",
    "gmail_url=\"https://mail.google.com\"\n",
    "soup=BeautifulSoup(requests.get(gmail_url).text, \"lxml\")\n",
    "print(soup.prettify())"
   ]
  },
  {
   "cell_type": "markdown",
   "metadata": {
    "run_control": {
     "frozen": false,
     "read_only": false
    }
   },
   "source": [
    "You may get a tiny page... or get redirected. Websites change over time, and YMMV based on your settings, cookies, etc. Soupifying this is useless, of course. Luckily, in this case we can see where we are sent to. In many of cases, you won't be so lucky. The page contents will be rendered by javascript by a browser, so just getting the source won't help you.\n",
    "\n",
    "Anyway, let's follow the redirection for now."
   ]
  },
  {
   "cell_type": "code",
   "execution_count": null,
   "metadata": {
    "ExecuteTime": {
     "end_time": "2018-04-16T22:04:50.720544Z",
     "start_time": "2018-04-16T22:04:49.945061Z"
    },
    "run_control": {
     "frozen": false,
     "read_only": false
    }
   },
   "outputs": [],
   "source": [
    "new_url = \"https://mail.google.com/mail\"\n",
    "\n",
    "# get method will navigate the requested url.. \n",
    "soup =BeautifulSoup(requests.get(new_url).text)\n",
    "print(soup.prettify())"
   ]
  },
  {
   "cell_type": "code",
   "execution_count": null,
   "metadata": {
    "ExecuteTime": {
     "end_time": "2018-04-16T22:04:53.321964Z",
     "start_time": "2018-04-16T22:04:53.314920Z"
    },
    "run_control": {
     "frozen": false,
     "read_only": false
    }
   },
   "outputs": [],
   "source": [
    "print(soup.find(id='Email'))"
   ]
  },
  {
   "cell_type": "markdown",
   "metadata": {
    "run_control": {
     "frozen": false,
     "read_only": false
    }
   },
   "source": [
    "We have hit the login page. We can't get to the emails without logging in ...."
   ]
  },
  {
   "cell_type": "code",
   "execution_count": null,
   "metadata": {
    "ExecuteTime": {
     "end_time": "2018-04-17T13:59:28.264457Z",
     "start_time": "2018-04-17T13:59:24.894342Z"
    },
    "collapsed": true,
    "run_control": {
     "frozen": false,
     "read_only": false
    }
   },
   "outputs": [],
   "source": [
    "# pip install selenium \n",
    "# download chromedriver: https://sites.google.com/a/chromium.org/chromedriver/downloads      \n",
    "\n",
    "from selenium import webdriver\n",
    "from selenium.webdriver.common.keys import Keys\n",
    "import time\n",
    "\n",
    "import os\n",
    "chromedriver = \"/Applications/chromedriver\" # path to the chromedriver executable\n",
    "os.environ[\"webdriver.chrome.driver\"] = chromedriver\n",
    "\n",
    "driver = webdriver.Chrome(chromedriver)\n",
    "driver.get(\"https://mail.google.com\")\n",
    "\n",
    "# Alternatives to Chrome: Firefox, phantomjs"
   ]
  },
  {
   "cell_type": "markdown",
   "metadata": {
    "run_control": {
     "frozen": false,
     "read_only": false
    }
   },
   "source": [
    "### Fill out username and password, hit enter to log in"
   ]
  },
  {
   "cell_type": "code",
   "execution_count": null,
   "metadata": {
    "ExecuteTime": {
     "end_time": "2018-04-17T14:00:24.336923Z",
     "start_time": "2018-04-17T14:00:23.925407Z"
    },
    "collapsed": true,
    "run_control": {
     "frozen": false,
     "read_only": false
    }
   },
   "outputs": [],
   "source": [
    "username_form = driver.find_element_by_id(\"identifierId\")\n",
    "username_form.send_keys(\"email@email.com\") # enter email"
   ]
  },
  {
   "cell_type": "code",
   "execution_count": null,
   "metadata": {
    "ExecuteTime": {
     "end_time": "2018-04-17T14:00:46.845962Z",
     "start_time": "2018-04-17T14:00:46.751815Z"
    },
    "collapsed": true,
    "run_control": {
     "frozen": false,
     "read_only": false
    }
   },
   "outputs": [],
   "source": [
    "username_form.send_keys(Keys.RETURN)"
   ]
  },
  {
   "cell_type": "code",
   "execution_count": null,
   "metadata": {
    "ExecuteTime": {
     "end_time": "2018-04-17T14:01:45.934953Z",
     "start_time": "2018-04-17T14:01:45.723737Z"
    },
    "collapsed": true,
    "run_control": {
     "frozen": false,
     "read_only": false
    }
   },
   "outputs": [],
   "source": [
    "password_form=driver.find_element_by_name(\"password\") # note another approach\n",
    "password_form.send_keys('password') # enter password"
   ]
  },
  {
   "cell_type": "code",
   "execution_count": null,
   "metadata": {
    "ExecuteTime": {
     "end_time": "2018-04-17T14:01:48.181539Z",
     "start_time": "2018-04-17T14:01:48.072895Z"
    },
    "collapsed": true,
    "run_control": {
     "frozen": false,
     "read_only": false
    }
   },
   "outputs": [],
   "source": [
    "password_form.send_keys(Keys.RETURN)"
   ]
  },
  {
   "cell_type": "markdown",
   "metadata": {
    "run_control": {
     "frozen": false,
     "read_only": false
    }
   },
   "source": [
    "### Click compose button to start a new email draft"
   ]
  },
  {
   "cell_type": "code",
   "execution_count": null,
   "metadata": {
    "ExecuteTime": {
     "end_time": "2018-04-17T14:02:52.872149Z",
     "start_time": "2018-04-17T14:02:52.495557Z"
    },
    "collapsed": true,
    "run_control": {
     "frozen": false,
     "read_only": false
    }
   },
   "outputs": [],
   "source": [
    "compose_button=driver.find_element_by_xpath('//div[text()=\"COMPOSE\"]')\n",
    "compose_button.click()"
   ]
  },
  {
   "cell_type": "markdown",
   "metadata": {
    "run_control": {
     "frozen": false,
     "read_only": false
    }
   },
   "source": [
    "### Write a nice, friendly (optional) message to your favorite person"
   ]
  },
  {
   "cell_type": "code",
   "execution_count": null,
   "metadata": {
    "ExecuteTime": {
     "end_time": "2018-04-17T14:09:36.643239Z",
     "start_time": "2018-04-17T14:09:34.694042Z"
    },
    "collapsed": true,
    "run_control": {
     "frozen": false,
     "read_only": false
    }
   },
   "outputs": [],
   "source": [
    "to_field = driver.find_element_by_xpath('//div[text()=\"Recipients\"]')\n",
    "to_field.click()\n",
    "to_field = driver.find_element_by_name('to')\n",
    "to_field.send_keys(\"cmgiler@gmail.com\") # please pre-check if AOL still exists"
   ]
  },
  {
   "cell_type": "code",
   "execution_count": null,
   "metadata": {
    "ExecuteTime": {
     "end_time": "2018-04-17T14:09:40.617720Z",
     "start_time": "2018-04-17T14:09:40.411153Z"
    },
    "collapsed": true,
    "run_control": {
     "frozen": false,
     "read_only": false
    }
   },
   "outputs": [],
   "source": [
    "subject = driver.find_element_by_name(\"subjectbox\")\n",
    "subject.send_keys(\"This is an alert!\")"
   ]
  },
  {
   "cell_type": "code",
   "execution_count": null,
   "metadata": {
    "ExecuteTime": {
     "end_time": "2018-04-17T14:09:48.418097Z",
     "start_time": "2018-04-17T14:09:47.841706Z"
    },
    "collapsed": true,
    "run_control": {
     "frozen": false,
     "read_only": false
    }
   },
   "outputs": [],
   "source": [
    "message_body = driver.find_element_by_xpath(\"//div[@aria-label='Message Body']\")\n",
    "message_body.send_keys(\"Hello,\")\n",
    "message_body.send_keys([Keys.RETURN, Keys.RETURN])\n",
    "message_body.send_keys(\"I am a computer and I just became self aware!\")"
   ]
  },
  {
   "cell_type": "markdown",
   "metadata": {
    "run_control": {
     "frozen": false,
     "read_only": false
    }
   },
   "source": [
    "### Press the send button"
   ]
  },
  {
   "cell_type": "code",
   "execution_count": null,
   "metadata": {
    "ExecuteTime": {
     "end_time": "2018-04-17T14:09:57.860541Z",
     "start_time": "2018-04-17T14:09:57.248673Z"
    },
    "collapsed": true,
    "run_control": {
     "frozen": false,
     "read_only": false
    }
   },
   "outputs": [],
   "source": [
    "send_button = driver.find_element_by_xpath(\"//div[contains(@aria-label, 'Send')]\")\n",
    "send_button.click()"
   ]
  },
  {
   "cell_type": "code",
   "execution_count": null,
   "metadata": {
    "ExecuteTime": {
     "end_time": "2018-04-17T14:11:48.298679Z",
     "start_time": "2018-04-17T14:11:48.022294Z"
    },
    "collapsed": true
   },
   "outputs": [],
   "source": [
    "driver.close()"
   ]
  },
  {
   "cell_type": "markdown",
   "metadata": {
    "run_control": {
     "frozen": false,
     "read_only": false
    }
   },
   "source": [
    "# Scraping boxofficemojo with selenium"
   ]
  },
  {
   "cell_type": "code",
   "execution_count": null,
   "metadata": {
    "ExecuteTime": {
     "end_time": "2018-04-17T14:15:36.917231Z",
     "start_time": "2018-04-17T14:15:32.406736Z"
    },
    "collapsed": true,
    "run_control": {
     "frozen": false,
     "read_only": false
    }
   },
   "outputs": [],
   "source": [
    "matrix_url = \"http://www.boxofficemojo.com/movies/?id=matrix.htm\"\n",
    "driver = webdriver.Chrome(chromedriver)\n",
    "driver.get(matrix_url)"
   ]
  },
  {
   "cell_type": "code",
   "execution_count": null,
   "metadata": {
    "ExecuteTime": {
     "end_time": "2018-04-17T14:15:48.584184Z",
     "start_time": "2018-04-17T14:15:48.525096Z"
    },
    "run_control": {
     "frozen": false,
     "read_only": false
    }
   },
   "outputs": [],
   "source": [
    "# 'contains' will find a match on the text, in this case return b tag\n",
    "gross_selector = '//font[contains(text(), \"Domestic\")]/b'\n",
    "print(driver.find_element_by_xpath(gross_selector).text)"
   ]
  },
  {
   "cell_type": "code",
   "execution_count": null,
   "metadata": {
    "ExecuteTime": {
     "end_time": "2018-04-17T14:15:55.307386Z",
     "start_time": "2018-04-17T14:15:55.207827Z"
    },
    "run_control": {
     "frozen": false,
     "read_only": false
    }
   },
   "outputs": [],
   "source": [
    "# scraping genre\n",
    "genre_selector = '//a[contains(@href, \"/genres/chart/\")]/b'\n",
    "for genre_anchor in driver.find_elements_by_xpath(genre_selector):\n",
    "    print(genre_anchor.text)"
   ]
  },
  {
   "cell_type": "code",
   "execution_count": null,
   "metadata": {
    "ExecuteTime": {
     "end_time": "2018-04-17T14:16:02.842709Z",
     "start_time": "2018-04-17T14:16:02.780488Z"
    },
    "collapsed": true,
    "run_control": {
     "frozen": false,
     "read_only": false
    }
   },
   "outputs": [],
   "source": [
    "inf_adjust_2000_selector = '//select[@name=\"ticketyr\"]/option[@value=\"2000\"]'\n",
    "driver.find_element_by_xpath(inf_adjust_2000_selector).click()"
   ]
  },
  {
   "cell_type": "code",
   "execution_count": null,
   "metadata": {
    "ExecuteTime": {
     "end_time": "2018-04-17T14:16:04.554336Z",
     "start_time": "2018-04-17T14:16:04.063839Z"
    },
    "collapsed": true,
    "run_control": {
     "frozen": false,
     "read_only": false
    }
   },
   "outputs": [],
   "source": [
    "go_button = driver.find_element_by_name(\"Go\")\n",
    "go_button.click()"
   ]
  },
  {
   "cell_type": "markdown",
   "metadata": {
    "run_control": {
     "frozen": false,
     "read_only": false
    }
   },
   "source": [
    "Now the page has changed, it's showing inflation adjusted numbers. We can grab the new, adjusted number"
   ]
  },
  {
   "cell_type": "code",
   "execution_count": null,
   "metadata": {
    "ExecuteTime": {
     "end_time": "2018-04-17T14:16:08.650266Z",
     "start_time": "2018-04-17T14:16:08.606121Z"
    },
    "run_control": {
     "frozen": false,
     "read_only": false
    }
   },
   "outputs": [],
   "source": [
    "gross_selector = '//font[contains(text(), \"Domestic \")]/b'\n",
    "print(driver.find_element_by_xpath(gross_selector).text)"
   ]
  },
  {
   "cell_type": "markdown",
   "metadata": {
    "run_control": {
     "frozen": false,
     "read_only": false
    }
   },
   "source": [
    "# Scraping IMDB with selenium"
   ]
  },
  {
   "cell_type": "code",
   "execution_count": null,
   "metadata": {
    "ExecuteTime": {
     "end_time": "2018-04-17T14:16:16.048438Z",
     "start_time": "2018-04-17T14:16:13.071431Z"
    },
    "collapsed": true,
    "run_control": {
     "frozen": false,
     "read_only": false
    }
   },
   "outputs": [],
   "source": [
    "url = \"http://www.imdb.com\"\n",
    "driver.get(url)"
   ]
  },
  {
   "cell_type": "code",
   "execution_count": null,
   "metadata": {
    "ExecuteTime": {
     "end_time": "2018-04-17T14:16:23.015248Z",
     "start_time": "2018-04-17T14:16:22.624254Z"
    },
    "collapsed": true,
    "run_control": {
     "frozen": false,
     "read_only": false
    }
   },
   "outputs": [],
   "source": [
    "query = driver.find_element_by_id(\"navbar-query\")\n",
    "query.send_keys(\"Julianne Moore\")"
   ]
  },
  {
   "cell_type": "code",
   "execution_count": null,
   "metadata": {
    "ExecuteTime": {
     "end_time": "2018-04-17T14:16:26.502843Z",
     "start_time": "2018-04-17T14:16:25.277604Z"
    },
    "collapsed": true,
    "run_control": {
     "frozen": false,
     "read_only": false
    }
   },
   "outputs": [],
   "source": [
    "query.send_keys(Keys.RETURN)"
   ]
  },
  {
   "cell_type": "code",
   "execution_count": null,
   "metadata": {
    "ExecuteTime": {
     "end_time": "2018-04-17T14:16:48.590338Z",
     "start_time": "2018-04-17T14:16:46.823550Z"
    },
    "collapsed": true,
    "run_control": {
     "frozen": false,
     "read_only": false
    }
   },
   "outputs": [],
   "source": [
    "name_selector = '//a[contains(text(), \"Julianne Moore\")]'\n",
    "driver.find_element_by_xpath(name_selector).click()\n",
    "current_url = driver.current_url"
   ]
  },
  {
   "cell_type": "markdown",
   "metadata": {
    "run_control": {
     "frozen": false,
     "read_only": false
    }
   },
   "source": []
  },
  {
   "cell_type": "markdown",
   "metadata": {
    "run_control": {
     "frozen": false,
     "read_only": false
    }
   },
   "source": [
    "# Mixing Selenium and BeautifulSoup"
   ]
  },
  {
   "cell_type": "code",
   "execution_count": null,
   "metadata": {
    "ExecuteTime": {
     "end_time": "2018-04-17T14:17:25.814412Z",
     "start_time": "2018-04-17T14:17:25.355645Z"
    },
    "collapsed": true,
    "run_control": {
     "frozen": false,
     "read_only": false
    }
   },
   "outputs": [],
   "source": [
    "from bs4 import BeautifulSoup\n",
    "\"\"\"Could use requests then send page.text to bs4\n",
    "but Selenium actually stores the source as part of\n",
    "the selenium driver object inside driver.page_source\n",
    "\n",
    "#import requests\n",
    "#page = requests.get(current_url)\n",
    "\"\"\"\n",
    "soup = BeautifulSoup(driver.page_source, 'html.parser')"
   ]
  },
  {
   "cell_type": "code",
   "execution_count": null,
   "metadata": {
    "ExecuteTime": {
     "end_time": "2018-04-17T14:17:26.636702Z",
     "start_time": "2018-04-17T14:17:26.470060Z"
    },
    "run_control": {
     "frozen": false,
     "read_only": false
    }
   },
   "outputs": [],
   "source": [
    "soup.prettify()"
   ]
  },
  {
   "cell_type": "code",
   "execution_count": null,
   "metadata": {
    "ExecuteTime": {
     "end_time": "2018-04-17T14:17:34.375638Z",
     "start_time": "2018-04-17T14:17:34.366126Z"
    },
    "run_control": {
     "frozen": false,
     "read_only": false
    }
   },
   "outputs": [],
   "source": [
    "len(soup.find_all('a'))"
   ]
  },
  {
   "cell_type": "code",
   "execution_count": null,
   "metadata": {
    "ExecuteTime": {
     "end_time": "2018-04-17T14:17:38.833520Z",
     "start_time": "2018-04-17T14:17:38.693638Z"
    },
    "collapsed": true,
    "run_control": {
     "frozen": false,
     "read_only": false
    }
   },
   "outputs": [],
   "source": [
    "driver.close()"
   ]
  },
  {
   "cell_type": "markdown",
   "metadata": {
    "run_control": {
     "frozen": false,
     "read_only": false
    }
   },
   "source": [
    "References: \n",
    "- Documentation on finding elements:\n",
    "- http://selenium-python.readthedocs.io/locating-elements.html\n",
    "- Xpath tutorial:\n",
    "-  https://www.w3schools.com/xml/xpath_syntax.asp"
   ]
  },
  {
   "cell_type": "code",
   "execution_count": null,
   "metadata": {
    "collapsed": true
   },
   "outputs": [],
   "source": []
  },
  {
   "cell_type": "markdown",
   "metadata": {},
   "source": [
    "# Example: \n",
    "## Downloading Files for a Metis Project!"
   ]
  },
  {
   "cell_type": "code",
   "execution_count": null,
   "metadata": {
    "ExecuteTime": {
     "end_time": "2018-04-17T14:18:10.886159Z",
     "start_time": "2018-04-17T14:18:10.256175Z"
    },
    "collapsed": true
   },
   "outputs": [],
   "source": [
    "import numpy as np\n",
    "import pandas as pd\n",
    "from selenium import webdriver\n",
    "import os"
   ]
  },
  {
   "cell_type": "code",
   "execution_count": null,
   "metadata": {
    "ExecuteTime": {
     "end_time": "2018-04-17T14:20:39.279644Z",
     "start_time": "2018-04-17T14:20:34.375872Z"
    },
    "collapsed": true
   },
   "outputs": [],
   "source": [
    "chromedriver = \"/Applications/chromedriver\"\n",
    "os.environ[\"webdriver.chrome.driver\"] = chromedriver\n",
    "\n",
    "url = 'https://transtats.bts.gov/'\n",
    "\n",
    "driver = webdriver.Chrome(chromedriver)\n",
    "driver.get(url)"
   ]
  },
  {
   "cell_type": "code",
   "execution_count": null,
   "metadata": {
    "ExecuteTime": {
     "end_time": "2018-04-17T14:20:39.354119Z",
     "start_time": "2018-04-17T14:20:39.285091Z"
    },
    "collapsed": true
   },
   "outputs": [],
   "source": [
    "buttons = driver.find_elements_by_xpath('//td[@class=\"sidebarLink\"]')"
   ]
  },
  {
   "cell_type": "code",
   "execution_count": null,
   "metadata": {
    "ExecuteTime": {
     "end_time": "2018-04-17T14:20:40.526640Z",
     "start_time": "2018-04-17T14:20:39.358734Z"
    },
    "collapsed": true
   },
   "outputs": [],
   "source": [
    "for button in buttons:\n",
    "    if button.find_element_by_tag_name('a').text == 'Aviation':\n",
    "        button.find_element_by_tag_name('a').click()\n",
    "        break"
   ]
  },
  {
   "cell_type": "code",
   "execution_count": null,
   "metadata": {
    "ExecuteTime": {
     "end_time": "2018-04-17T14:20:41.819015Z",
     "start_time": "2018-04-17T14:20:40.529153Z"
    },
    "collapsed": true
   },
   "outputs": [],
   "source": [
    "for link in driver.find_elements_by_xpath('//td[@class=\"dataTD\"]/a'):\n",
    "    if link.text == 'Airline On-Time Performance Data':\n",
    "        link.click()\n",
    "        break"
   ]
  },
  {
   "cell_type": "code",
   "execution_count": null,
   "metadata": {
    "ExecuteTime": {
     "end_time": "2018-04-17T14:20:42.713274Z",
     "start_time": "2018-04-17T14:20:41.821747Z"
    },
    "collapsed": true
   },
   "outputs": [],
   "source": [
    "for link in driver.find_elements_by_xpath('//td[@class=\"dataTDRight\"]/a'):\n",
    "    if link.text == 'Download':\n",
    "        link.click()\n",
    "        break"
   ]
  },
  {
   "cell_type": "code",
   "execution_count": null,
   "metadata": {
    "ExecuteTime": {
     "end_time": "2018-04-17T14:20:53.858251Z",
     "start_time": "2018-04-17T14:20:53.783163Z"
    },
    "collapsed": true
   },
   "outputs": [],
   "source": [
    "driver.find_element_by_xpath('//input[@name=\"DownloadZip\"]').click()"
   ]
  },
  {
   "cell_type": "code",
   "execution_count": null,
   "metadata": {
    "ExecuteTime": {
     "end_time": "2018-04-17T14:21:31.604465Z",
     "start_time": "2018-04-17T14:21:23.585367Z"
    },
    "collapsed": true
   },
   "outputs": [],
   "source": [
    "# Selection Demo\n",
    "for year in driver.find_elements_by_xpath('//select[@id=\"XYEAR\"]/option')[20:]:\n",
    "    driver.find_element_by_xpath('//select[@id=\"XYEAR\"]').click()\n",
    "    year.click()\n",
    "    for month in driver.find_elements_by_xpath('//select[@id=\"FREQUENCY\"]/option'):\n",
    "        driver.find_element_by_xpath('//select[@id=\"FREQUENCY\"]')\n",
    "        month.click()"
   ]
  },
  {
   "cell_type": "code",
   "execution_count": null,
   "metadata": {
    "ExecuteTime": {
     "end_time": "2018-04-17T14:21:51.402022Z",
     "start_time": "2018-04-17T14:21:45.340559Z"
    },
    "collapsed": true
   },
   "outputs": [],
   "source": [
    "# Full Demo\n",
    "i = 1\n",
    "i_lim = 15\n",
    "for year in driver.find_elements_by_xpath('//select[@id=\"XYEAR\"]/option'):\n",
    "    driver.find_element_by_xpath('//select[@id=\"XYEAR\"]').click()\n",
    "    year.click()\n",
    "    for month in driver.find_elements_by_xpath('//select[@id=\"FREQUENCY\"]/option'):\n",
    "        if i > i_lim:\n",
    "            break\n",
    "        driver.find_element_by_xpath('//select[@id=\"FREQUENCY\"]')\n",
    "        month.click()\n",
    "        driver.find_element_by_xpath('//button[@name=\"Download2\"]').click()\n",
    "        i += 1\n",
    "    if i > i_lim:\n",
    "        break"
   ]
  },
  {
   "cell_type": "code",
   "execution_count": null,
   "metadata": {
    "collapsed": true
   },
   "outputs": [],
   "source": []
  }
 ],
 "metadata": {
  "anaconda-cloud": {},
  "hide_input": false,
  "kernelspec": {
   "display_name": "Python 3",
   "language": "python",
   "name": "python3"
  },
  "language_info": {
   "codemirror_mode": {
    "name": "ipython",
    "version": 3
   },
   "file_extension": ".py",
   "mimetype": "text/x-python",
   "name": "python",
   "nbconvert_exporter": "python",
   "pygments_lexer": "ipython3",
   "version": "3.6.4"
  },
  "latex_envs": {
   "LaTeX_envs_menu_present": true,
   "bibliofile": "biblio.bib",
   "cite_by": "apalike",
   "current_citInitial": 1,
   "eqLabelWithNumbers": true,
   "eqNumInitial": 1,
   "hotkeys": {
    "equation": "Ctrl-E",
    "itemize": "Ctrl-I"
   },
   "labels_anchors": false,
   "latex_user_defs": false,
   "report_style_numbering": false,
   "user_envs_cfg": false
  },
  "toc": {
   "nav_menu": {
    "height": "210px",
    "width": "252px"
   },
   "number_sections": false,
   "sideBar": false,
   "skip_h1_title": false,
   "title_cell": "Table of Contents",
   "title_sidebar": "Contents",
   "toc_cell": false,
   "toc_position": {},
   "toc_section_display": "block",
   "toc_window_display": false
  }
 },
 "nbformat": 4,
 "nbformat_minor": 1
}
