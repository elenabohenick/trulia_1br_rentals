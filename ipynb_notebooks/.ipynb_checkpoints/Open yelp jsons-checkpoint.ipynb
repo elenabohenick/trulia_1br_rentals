{
 "cells": [
  {
   "cell_type": "code",
   "execution_count": 39,
   "metadata": {},
   "outputs": [],
   "source": [
    "import json\n",
    "import pandas as pd\n",
    "import numpy as np\n",
    "import codecs\n",
    "import re\n",
    "from collections import defaultdict"
   ]
  },
  {
   "cell_type": "code",
   "execution_count": 46,
   "metadata": {},
   "outputs": [],
   "source": [
    "json_data=open('../data/yelp_json/yelp_0.json').read()\n",
    "\n",
    "data0 = json.loads(json_data)"
   ]
  },
  {
   "cell_type": "code",
   "execution_count": 47,
   "metadata": {},
   "outputs": [
    {
     "data": {
      "text/plain": [
       "{'https://www.yelp.com/search?find_loc=13909 84th Drive Briarwood NY&cflt=restaurants': 223,\n",
       " 'https://www.yelp.com/search?find_loc=14432 78th Avenue Queens NY&cflt=restaurants': 94,\n",
       " 'https://www.yelp.com/search?find_loc=16 West 87th Street Manhattan NY&cflt=restaurants': 428,\n",
       " 'https://www.yelp.com/search?find_loc=1601 3rd Avenue Manhattan NY&cflt=restaurants': 596,\n",
       " 'https://www.yelp.com/search?find_loc=1711 Morris Avenue Bronx NY&cflt=restaurants': 239,\n",
       " 'https://www.yelp.com/search?find_loc=234 East 24th Street Manhattan NY&cflt=restaurants': 1663,\n",
       " 'https://www.yelp.com/search?find_loc=2878 Miles Avenue Bronx NY&cflt=restaurants': 40,\n",
       " 'https://www.yelp.com/search?find_loc=302 West 12th Street Manhattan NY&cflt=restaurants': 1272,\n",
       " 'https://www.yelp.com/search?find_loc=3625 Parsons Boulevard Queens NY&cflt=restaurants': 582,\n",
       " 'https://www.yelp.com/search?find_loc=411 West 48th Street Manhattan NY&cflt=restaurants': 1757}"
      ]
     },
     "execution_count": 47,
     "metadata": {},
     "output_type": "execute_result"
    }
   ],
   "source": [
    "data0"
   ]
  },
  {
   "cell_type": "code",
   "execution_count": 48,
   "metadata": {},
   "outputs": [],
   "source": [
    "l = list(range(1,173))"
   ]
  },
  {
   "cell_type": "code",
   "execution_count": 49,
   "metadata": {},
   "outputs": [],
   "source": [
    "data = data0\n",
    "for i in l:\n",
    "    json_data=open(f'../data/yelp_json/yelp_{i}.json').read()\n",
    "    data_new = json.loads(json_data)\n",
    "    data.update(data_new)"
   ]
  },
  {
   "cell_type": "code",
   "execution_count": 50,
   "metadata": {},
   "outputs": [],
   "source": [
    "test = pd.DataFrame.from_dict(data=data, orient='index')"
   ]
  },
  {
   "cell_type": "code",
   "execution_count": 52,
   "metadata": {},
   "outputs": [],
   "source": [
    "test.to_csv('yelp_batch_x.csv', header=False)"
   ]
  },
  {
   "cell_type": "code",
   "execution_count": 64,
   "metadata": {},
   "outputs": [],
   "source": [
    "yelp1 = pd.read_csv('../data/yelp_batch_1.csv', header=None)\n",
    "yelp2 = pd.read_csv('../data/yelp_batch_2.csv', header=None)"
   ]
  },
  {
   "cell_type": "code",
   "execution_count": 66,
   "metadata": {},
   "outputs": [
    {
     "data": {
      "text/html": [
       "<div>\n",
       "<style scoped>\n",
       "    .dataframe tbody tr th:only-of-type {\n",
       "        vertical-align: middle;\n",
       "    }\n",
       "\n",
       "    .dataframe tbody tr th {\n",
       "        vertical-align: top;\n",
       "    }\n",
       "\n",
       "    .dataframe thead th {\n",
       "        text-align: right;\n",
       "    }\n",
       "</style>\n",
       "<table border=\"1\" class=\"dataframe\">\n",
       "  <thead>\n",
       "    <tr style=\"text-align: right;\">\n",
       "      <th></th>\n",
       "      <th>link</th>\n",
       "      <th>rest_num</th>\n",
       "    </tr>\n",
       "  </thead>\n",
       "  <tbody>\n",
       "    <tr>\n",
       "      <th>0</th>\n",
       "      <td>https://www.yelp.com/search?find_loc=1601 3rd ...</td>\n",
       "      <td>596</td>\n",
       "    </tr>\n",
       "    <tr>\n",
       "      <th>1</th>\n",
       "      <td>https://www.yelp.com/search?find_loc=14432 78t...</td>\n",
       "      <td>94</td>\n",
       "    </tr>\n",
       "    <tr>\n",
       "      <th>2</th>\n",
       "      <td>https://www.yelp.com/search?find_loc=1711 Morr...</td>\n",
       "      <td>239</td>\n",
       "    </tr>\n",
       "    <tr>\n",
       "      <th>3</th>\n",
       "      <td>https://www.yelp.com/search?find_loc=3625 Pars...</td>\n",
       "      <td>582</td>\n",
       "    </tr>\n",
       "    <tr>\n",
       "      <th>4</th>\n",
       "      <td>https://www.yelp.com/search?find_loc=13909 84t...</td>\n",
       "      <td>223</td>\n",
       "    </tr>\n",
       "    <tr>\n",
       "      <th>5</th>\n",
       "      <td>https://www.yelp.com/search?find_loc=234 East ...</td>\n",
       "      <td>1663</td>\n",
       "    </tr>\n",
       "    <tr>\n",
       "      <th>6</th>\n",
       "      <td>https://www.yelp.com/search?find_loc=411 West ...</td>\n",
       "      <td>1757</td>\n",
       "    </tr>\n",
       "    <tr>\n",
       "      <th>7</th>\n",
       "      <td>https://www.yelp.com/search?find_loc=16 West 8...</td>\n",
       "      <td>428</td>\n",
       "    </tr>\n",
       "    <tr>\n",
       "      <th>8</th>\n",
       "      <td>https://www.yelp.com/search?find_loc=2878 Mile...</td>\n",
       "      <td>40</td>\n",
       "    </tr>\n",
       "    <tr>\n",
       "      <th>9</th>\n",
       "      <td>https://www.yelp.com/search?find_loc=302 West ...</td>\n",
       "      <td>1272</td>\n",
       "    </tr>\n",
       "    <tr>\n",
       "      <th>10</th>\n",
       "      <td>https://www.yelp.com/search?find_loc=912 Gates...</td>\n",
       "      <td>243</td>\n",
       "    </tr>\n",
       "    <tr>\n",
       "      <th>11</th>\n",
       "      <td>https://www.yelp.com/search?find_loc=246 East ...</td>\n",
       "      <td>1552</td>\n",
       "    </tr>\n",
       "    <tr>\n",
       "      <th>12</th>\n",
       "      <td>https://www.yelp.com/search?find_loc=14016 34t...</td>\n",
       "      <td>523</td>\n",
       "    </tr>\n",
       "    <tr>\n",
       "      <th>13</th>\n",
       "      <td>https://www.yelp.com/search?find_loc=8624 Dumo...</td>\n",
       "      <td>82</td>\n",
       "    </tr>\n",
       "    <tr>\n",
       "      <th>14</th>\n",
       "      <td>https://www.yelp.com/search?find_loc=141 Essex...</td>\n",
       "      <td>1755</td>\n",
       "    </tr>\n",
       "    <tr>\n",
       "      <th>15</th>\n",
       "      <td>https://www.yelp.com/search?find_loc=248 East ...</td>\n",
       "      <td>1644</td>\n",
       "    </tr>\n",
       "    <tr>\n",
       "      <th>16</th>\n",
       "      <td>https://www.yelp.com/search?find_loc=2836 Univ...</td>\n",
       "      <td>202</td>\n",
       "    </tr>\n",
       "    <tr>\n",
       "      <th>17</th>\n",
       "      <td>https://www.yelp.com/search?find_loc=2598 36th...</td>\n",
       "      <td>588</td>\n",
       "    </tr>\n",
       "    <tr>\n",
       "      <th>18</th>\n",
       "      <td>https://www.yelp.com/search?find_loc=805 Saint...</td>\n",
       "      <td>359</td>\n",
       "    </tr>\n",
       "    <tr>\n",
       "      <th>19</th>\n",
       "      <td>https://www.yelp.com/search?find_loc=694 Aller...</td>\n",
       "      <td>139</td>\n",
       "    </tr>\n",
       "    <tr>\n",
       "      <th>20</th>\n",
       "      <td>https://www.yelp.com/search?find_loc=632 Beach...</td>\n",
       "      <td>70</td>\n",
       "    </tr>\n",
       "    <tr>\n",
       "      <th>21</th>\n",
       "      <td>https://www.yelp.com/search?find_loc=323 East ...</td>\n",
       "      <td>708</td>\n",
       "    </tr>\n",
       "    <tr>\n",
       "      <th>22</th>\n",
       "      <td>https://www.yelp.com/search?find_loc=83-19 141...</td>\n",
       "      <td>162</td>\n",
       "    </tr>\n",
       "    <tr>\n",
       "      <th>23</th>\n",
       "      <td>https://www.yelp.com/search?find_loc=6042 70th...</td>\n",
       "      <td>329</td>\n",
       "    </tr>\n",
       "    <tr>\n",
       "      <th>24</th>\n",
       "      <td>https://www.yelp.com/search?find_loc=6015 Myrt...</td>\n",
       "      <td>338</td>\n",
       "    </tr>\n",
       "    <tr>\n",
       "      <th>25</th>\n",
       "      <td>https://www.yelp.com/search?find_loc=3180 45th...</td>\n",
       "      <td>485</td>\n",
       "    </tr>\n",
       "    <tr>\n",
       "      <th>26</th>\n",
       "      <td>https://www.yelp.com/search?find_loc=30 Columb...</td>\n",
       "      <td>347</td>\n",
       "    </tr>\n",
       "    <tr>\n",
       "      <th>27</th>\n",
       "      <td>https://www.yelp.com/search?find_loc=700 West ...</td>\n",
       "      <td>2389</td>\n",
       "    </tr>\n",
       "    <tr>\n",
       "      <th>28</th>\n",
       "      <td>https://www.yelp.com/search?find_loc=41 West 7...</td>\n",
       "      <td>440</td>\n",
       "    </tr>\n",
       "    <tr>\n",
       "      <th>29</th>\n",
       "      <td>https://www.yelp.com/search?find_loc=486 Brook...</td>\n",
       "      <td>255</td>\n",
       "    </tr>\n",
       "    <tr>\n",
       "      <th>...</th>\n",
       "      <td>...</td>\n",
       "      <td>...</td>\n",
       "    </tr>\n",
       "    <tr>\n",
       "      <th>1695</th>\n",
       "      <td>https://www.yelp.com/search?find_loc=1666 Bell...</td>\n",
       "      <td>16</td>\n",
       "    </tr>\n",
       "    <tr>\n",
       "      <th>1696</th>\n",
       "      <td>https://www.yelp.com/search?find_loc=8825 148t...</td>\n",
       "      <td>243</td>\n",
       "    </tr>\n",
       "    <tr>\n",
       "      <th>1697</th>\n",
       "      <td>https://www.yelp.com/search?find_loc=150 West ...</td>\n",
       "      <td>401</td>\n",
       "    </tr>\n",
       "    <tr>\n",
       "      <th>1698</th>\n",
       "      <td>https://www.yelp.com/search?find_loc=711 Seagi...</td>\n",
       "      <td>46</td>\n",
       "    </tr>\n",
       "    <tr>\n",
       "      <th>1699</th>\n",
       "      <td>https://www.yelp.com/search?find_loc=270 West ...</td>\n",
       "      <td>1562</td>\n",
       "    </tr>\n",
       "    <tr>\n",
       "      <th>1700</th>\n",
       "      <td>https://www.yelp.com/search?find_loc=2810 King...</td>\n",
       "      <td>98</td>\n",
       "    </tr>\n",
       "    <tr>\n",
       "      <th>1701</th>\n",
       "      <td>https://www.yelp.com/search?find_loc=10 West 7...</td>\n",
       "      <td>430</td>\n",
       "    </tr>\n",
       "    <tr>\n",
       "      <th>1702</th>\n",
       "      <td>https://www.yelp.com/search?find_loc=1052 77th...</td>\n",
       "      <td>153</td>\n",
       "    </tr>\n",
       "    <tr>\n",
       "      <th>1703</th>\n",
       "      <td>https://www.yelp.com/search?find_loc=246 7th A...</td>\n",
       "      <td>414</td>\n",
       "    </tr>\n",
       "    <tr>\n",
       "      <th>1704</th>\n",
       "      <td>https://www.yelp.com/search?find_loc=3030 Emmo...</td>\n",
       "      <td>69</td>\n",
       "    </tr>\n",
       "    <tr>\n",
       "      <th>1705</th>\n",
       "      <td>https://www.yelp.com/search?find_loc=225 North...</td>\n",
       "      <td>670</td>\n",
       "    </tr>\n",
       "    <tr>\n",
       "      <th>1706</th>\n",
       "      <td>https://www.yelp.com/search?find_loc=97 North ...</td>\n",
       "      <td>545</td>\n",
       "    </tr>\n",
       "    <tr>\n",
       "      <th>1707</th>\n",
       "      <td>https://www.yelp.com/search?find_loc=59 Gelsto...</td>\n",
       "      <td>231</td>\n",
       "    </tr>\n",
       "    <tr>\n",
       "      <th>1708</th>\n",
       "      <td>https://www.yelp.com/search?find_loc=452 Beach...</td>\n",
       "      <td>40</td>\n",
       "    </tr>\n",
       "    <tr>\n",
       "      <th>1709</th>\n",
       "      <td>https://www.yelp.com/search?find_loc=15010 79t...</td>\n",
       "      <td>91</td>\n",
       "    </tr>\n",
       "    <tr>\n",
       "      <th>1710</th>\n",
       "      <td>https://www.yelp.com/search?find_loc=271 West ...</td>\n",
       "      <td>433</td>\n",
       "    </tr>\n",
       "    <tr>\n",
       "      <th>1711</th>\n",
       "      <td>https://www.yelp.com/search?find_loc=200 Macdo...</td>\n",
       "      <td>147</td>\n",
       "    </tr>\n",
       "    <tr>\n",
       "      <th>1712</th>\n",
       "      <td>https://www.yelp.com/search?find_loc=1930 Broa...</td>\n",
       "      <td>811</td>\n",
       "    </tr>\n",
       "    <tr>\n",
       "      <th>1713</th>\n",
       "      <td>https://www.yelp.com/search?find_loc=319 Scher...</td>\n",
       "      <td>611</td>\n",
       "    </tr>\n",
       "    <tr>\n",
       "      <th>1714</th>\n",
       "      <td>https://www.yelp.com/search?find_loc=660 Senec...</td>\n",
       "      <td>486</td>\n",
       "    </tr>\n",
       "    <tr>\n",
       "      <th>1715</th>\n",
       "      <td>https://www.yelp.com/search?find_loc=407 Keap ...</td>\n",
       "      <td>617</td>\n",
       "    </tr>\n",
       "    <tr>\n",
       "      <th>1716</th>\n",
       "      <td>https://www.yelp.com/search?find_loc=205 2nd A...</td>\n",
       "      <td>1666</td>\n",
       "    </tr>\n",
       "    <tr>\n",
       "      <th>1717</th>\n",
       "      <td>https://www.yelp.com/search?find_loc=78-11 138...</td>\n",
       "      <td>86</td>\n",
       "    </tr>\n",
       "    <tr>\n",
       "      <th>1718</th>\n",
       "      <td>https://www.yelp.com/search?find_loc=132 East ...</td>\n",
       "      <td>200</td>\n",
       "    </tr>\n",
       "    <tr>\n",
       "      <th>1719</th>\n",
       "      <td>https://www.yelp.com/search?find_loc=5 Tudor C...</td>\n",
       "      <td>1429</td>\n",
       "    </tr>\n",
       "    <tr>\n",
       "      <th>1720</th>\n",
       "      <td>https://www.yelp.com/search?find_loc=311 West ...</td>\n",
       "      <td>359</td>\n",
       "    </tr>\n",
       "    <tr>\n",
       "      <th>1721</th>\n",
       "      <td>https://www.yelp.com/search?find_loc=172 East ...</td>\n",
       "      <td>1663</td>\n",
       "    </tr>\n",
       "    <tr>\n",
       "      <th>1722</th>\n",
       "      <td>https://www.yelp.com/search?find_loc=210 East ...</td>\n",
       "      <td>1672</td>\n",
       "    </tr>\n",
       "    <tr>\n",
       "      <th>1723</th>\n",
       "      <td>https://www.yelp.com/search?find_loc=248 Duffi...</td>\n",
       "      <td>581</td>\n",
       "    </tr>\n",
       "    <tr>\n",
       "      <th>1724</th>\n",
       "      <td>https://www.yelp.com/search?find_loc=2501 Cres...</td>\n",
       "      <td>417</td>\n",
       "    </tr>\n",
       "  </tbody>\n",
       "</table>\n",
       "<p>1725 rows × 2 columns</p>\n",
       "</div>"
      ],
      "text/plain": [
       "                                                   link  rest_num\n",
       "0     https://www.yelp.com/search?find_loc=1601 3rd ...       596\n",
       "1     https://www.yelp.com/search?find_loc=14432 78t...        94\n",
       "2     https://www.yelp.com/search?find_loc=1711 Morr...       239\n",
       "3     https://www.yelp.com/search?find_loc=3625 Pars...       582\n",
       "4     https://www.yelp.com/search?find_loc=13909 84t...       223\n",
       "5     https://www.yelp.com/search?find_loc=234 East ...      1663\n",
       "6     https://www.yelp.com/search?find_loc=411 West ...      1757\n",
       "7     https://www.yelp.com/search?find_loc=16 West 8...       428\n",
       "8     https://www.yelp.com/search?find_loc=2878 Mile...        40\n",
       "9     https://www.yelp.com/search?find_loc=302 West ...      1272\n",
       "10    https://www.yelp.com/search?find_loc=912 Gates...       243\n",
       "11    https://www.yelp.com/search?find_loc=246 East ...      1552\n",
       "12    https://www.yelp.com/search?find_loc=14016 34t...       523\n",
       "13    https://www.yelp.com/search?find_loc=8624 Dumo...        82\n",
       "14    https://www.yelp.com/search?find_loc=141 Essex...      1755\n",
       "15    https://www.yelp.com/search?find_loc=248 East ...      1644\n",
       "16    https://www.yelp.com/search?find_loc=2836 Univ...       202\n",
       "17    https://www.yelp.com/search?find_loc=2598 36th...       588\n",
       "18    https://www.yelp.com/search?find_loc=805 Saint...       359\n",
       "19    https://www.yelp.com/search?find_loc=694 Aller...       139\n",
       "20    https://www.yelp.com/search?find_loc=632 Beach...        70\n",
       "21    https://www.yelp.com/search?find_loc=323 East ...       708\n",
       "22    https://www.yelp.com/search?find_loc=83-19 141...       162\n",
       "23    https://www.yelp.com/search?find_loc=6042 70th...       329\n",
       "24    https://www.yelp.com/search?find_loc=6015 Myrt...       338\n",
       "25    https://www.yelp.com/search?find_loc=3180 45th...       485\n",
       "26    https://www.yelp.com/search?find_loc=30 Columb...       347\n",
       "27    https://www.yelp.com/search?find_loc=700 West ...      2389\n",
       "28    https://www.yelp.com/search?find_loc=41 West 7...       440\n",
       "29    https://www.yelp.com/search?find_loc=486 Brook...       255\n",
       "...                                                 ...       ...\n",
       "1695  https://www.yelp.com/search?find_loc=1666 Bell...        16\n",
       "1696  https://www.yelp.com/search?find_loc=8825 148t...       243\n",
       "1697  https://www.yelp.com/search?find_loc=150 West ...       401\n",
       "1698  https://www.yelp.com/search?find_loc=711 Seagi...        46\n",
       "1699  https://www.yelp.com/search?find_loc=270 West ...      1562\n",
       "1700  https://www.yelp.com/search?find_loc=2810 King...        98\n",
       "1701  https://www.yelp.com/search?find_loc=10 West 7...       430\n",
       "1702  https://www.yelp.com/search?find_loc=1052 77th...       153\n",
       "1703  https://www.yelp.com/search?find_loc=246 7th A...       414\n",
       "1704  https://www.yelp.com/search?find_loc=3030 Emmo...        69\n",
       "1705  https://www.yelp.com/search?find_loc=225 North...       670\n",
       "1706  https://www.yelp.com/search?find_loc=97 North ...       545\n",
       "1707  https://www.yelp.com/search?find_loc=59 Gelsto...       231\n",
       "1708  https://www.yelp.com/search?find_loc=452 Beach...        40\n",
       "1709  https://www.yelp.com/search?find_loc=15010 79t...        91\n",
       "1710  https://www.yelp.com/search?find_loc=271 West ...       433\n",
       "1711  https://www.yelp.com/search?find_loc=200 Macdo...       147\n",
       "1712  https://www.yelp.com/search?find_loc=1930 Broa...       811\n",
       "1713  https://www.yelp.com/search?find_loc=319 Scher...       611\n",
       "1714  https://www.yelp.com/search?find_loc=660 Senec...       486\n",
       "1715  https://www.yelp.com/search?find_loc=407 Keap ...       617\n",
       "1716  https://www.yelp.com/search?find_loc=205 2nd A...      1666\n",
       "1717  https://www.yelp.com/search?find_loc=78-11 138...        86\n",
       "1718  https://www.yelp.com/search?find_loc=132 East ...       200\n",
       "1719  https://www.yelp.com/search?find_loc=5 Tudor C...      1429\n",
       "1720  https://www.yelp.com/search?find_loc=311 West ...       359\n",
       "1721  https://www.yelp.com/search?find_loc=172 East ...      1663\n",
       "1722  https://www.yelp.com/search?find_loc=210 East ...      1672\n",
       "1723  https://www.yelp.com/search?find_loc=248 Duffi...       581\n",
       "1724  https://www.yelp.com/search?find_loc=2501 Cres...       417\n",
       "\n",
       "[1725 rows x 2 columns]"
      ]
     },
     "execution_count": 66,
     "metadata": {},
     "output_type": "execute_result"
    }
   ],
   "source": [
    "yelp1.rename(index=str, columns={0: \"link\", 1: \"rest_num\"})\n",
    "yelp2.rename(index=str, columns={0: \"link\", 1: \"rest_num\"})"
   ]
  },
  {
   "cell_type": "code",
   "execution_count": 70,
   "metadata": {},
   "outputs": [
    {
     "name": "stdout",
     "output_type": "stream",
     "text": [
      "3090\n",
      "1725\n"
     ]
    }
   ],
   "source": [
    "print(len(yelp1))\n",
    "print(len(yelp2))"
   ]
  },
  {
   "cell_type": "code",
   "execution_count": 71,
   "metadata": {},
   "outputs": [],
   "source": [
    "yelp = yelp1.append(yelp2, ignore_index=True, )"
   ]
  },
  {
   "cell_type": "code",
   "execution_count": 77,
   "metadata": {},
   "outputs": [
    {
     "data": {
      "text/plain": [
       "4815"
      ]
     },
     "execution_count": 77,
     "metadata": {},
     "output_type": "execute_result"
    }
   ],
   "source": [
    "len(yelp)"
   ]
  },
  {
   "cell_type": "code",
   "execution_count": 85,
   "metadata": {},
   "outputs": [
    {
     "data": {
      "text/html": [
       "<div>\n",
       "<style scoped>\n",
       "    .dataframe tbody tr th:only-of-type {\n",
       "        vertical-align: middle;\n",
       "    }\n",
       "\n",
       "    .dataframe tbody tr th {\n",
       "        vertical-align: top;\n",
       "    }\n",
       "\n",
       "    .dataframe thead th {\n",
       "        text-align: right;\n",
       "    }\n",
       "</style>\n",
       "<table border=\"1\" class=\"dataframe\">\n",
       "  <thead>\n",
       "    <tr style=\"text-align: right;\">\n",
       "      <th></th>\n",
       "      <th>link</th>\n",
       "      <th>rest_num</th>\n",
       "    </tr>\n",
       "  </thead>\n",
       "  <tbody>\n",
       "    <tr>\n",
       "      <th>0</th>\n",
       "      <td>https://www.yelp.com/search?find_loc=119 West ...</td>\n",
       "      <td>455</td>\n",
       "    </tr>\n",
       "    <tr>\n",
       "      <th>1</th>\n",
       "      <td>https://www.yelp.com/search?find_loc=250 West ...</td>\n",
       "      <td>389</td>\n",
       "    </tr>\n",
       "    <tr>\n",
       "      <th>2</th>\n",
       "      <td>https://www.yelp.com/search?find_loc=24060 65t...</td>\n",
       "      <td>24</td>\n",
       "    </tr>\n",
       "    <tr>\n",
       "      <th>3</th>\n",
       "      <td>https://www.yelp.com/search?find_loc=321 61st ...</td>\n",
       "      <td>395</td>\n",
       "    </tr>\n",
       "    <tr>\n",
       "      <th>4</th>\n",
       "      <td>https://www.yelp.com/search?find_loc=7525 153r...</td>\n",
       "      <td>96</td>\n",
       "    </tr>\n",
       "  </tbody>\n",
       "</table>\n",
       "</div>"
      ],
      "text/plain": [
       "                                                link  rest_num\n",
       "0  https://www.yelp.com/search?find_loc=119 West ...       455\n",
       "1  https://www.yelp.com/search?find_loc=250 West ...       389\n",
       "2  https://www.yelp.com/search?find_loc=24060 65t...        24\n",
       "3  https://www.yelp.com/search?find_loc=321 61st ...       395\n",
       "4  https://www.yelp.com/search?find_loc=7525 153r...        96"
      ]
     },
     "execution_count": 85,
     "metadata": {},
     "output_type": "execute_result"
    }
   ],
   "source": [
    "yelp.rename(index=str, columns={0: \"link\", 1: \"rest_num\"}, inplace = True)\n",
    "yelp.head()"
   ]
  },
  {
   "cell_type": "code",
   "execution_count": 86,
   "metadata": {},
   "outputs": [
    {
     "data": {
      "text/plain": [
       "4815"
      ]
     },
     "execution_count": 86,
     "metadata": {},
     "output_type": "execute_result"
    }
   ],
   "source": [
    "len(yelp)"
   ]
  },
  {
   "cell_type": "code",
   "execution_count": 87,
   "metadata": {},
   "outputs": [],
   "source": [
    "yelp.to_csv('../data/yelp_rest_data.csv')"
   ]
  },
  {
   "cell_type": "code",
   "execution_count": 82,
   "metadata": {},
   "outputs": [],
   "source": [
    "yelp.to_json('../data/yelp_rest_data.json', orient='index')\n",
    "# json.dump(yelp, open('../data/yelp_rest_data.json', 'w'), indent=\"\\t\")"
   ]
  },
  {
   "cell_type": "code",
   "execution_count": null,
   "metadata": {},
   "outputs": [],
   "source": []
  },
  {
   "cell_type": "code",
   "execution_count": null,
   "metadata": {},
   "outputs": [],
   "source": []
  },
  {
   "cell_type": "code",
   "execution_count": null,
   "metadata": {},
   "outputs": [],
   "source": []
  },
  {
   "cell_type": "code",
   "execution_count": null,
   "metadata": {},
   "outputs": [],
   "source": []
  },
  {
   "cell_type": "code",
   "execution_count": null,
   "metadata": {},
   "outputs": [],
   "source": []
  },
  {
   "cell_type": "code",
   "execution_count": 61,
   "metadata": {},
   "outputs": [
    {
     "data": {
      "text/plain": [
       "3089"
      ]
     },
     "execution_count": 61,
     "metadata": {},
     "output_type": "execute_result"
    }
   ],
   "source": [
    "len(yelp1)"
   ]
  },
  {
   "cell_type": "code",
   "execution_count": 26,
   "metadata": {},
   "outputs": [],
   "source": [
    "df = pd.read_csv('../data/trulia_cleaned.csv')"
   ]
  },
  {
   "cell_type": "code",
   "execution_count": 27,
   "metadata": {},
   "outputs": [],
   "source": [
    "def get_link_part(row):\n",
    "\n",
    "    address_string = row.replace(',','')\n",
    "    address_elements = address_string.split(' ')\n",
    "    adrs_part = ('+').join(address_elements)\n",
    "    return(adrs_part)"
   ]
  },
  {
   "cell_type": "code",
   "execution_count": 28,
   "metadata": {},
   "outputs": [],
   "source": [
    "df['adrs_part'] = df.address.apply(get_link_part)"
   ]
  },
  {
   "cell_type": "code",
   "execution_count": 29,
   "metadata": {},
   "outputs": [],
   "source": [
    "yelp_df = df[['url','address','adrs_part']].copy()"
   ]
  },
  {
   "cell_type": "code",
   "execution_count": 30,
   "metadata": {},
   "outputs": [],
   "source": [
    "def url_link(address):\n",
    "    url = \"https://www.yelp.com/search?find_loc=\" + address + \"&cflt=restaurants\"\n",
    "    return(url)"
   ]
  },
  {
   "cell_type": "code",
   "execution_count": 31,
   "metadata": {},
   "outputs": [],
   "source": [
    "# create yelp links\n",
    "yelp_df['url_total_rest'] = yelp_df.address.apply(url_link)\n",
    "\n",
    "# get a list of unqiue addresses\n",
    "urls_total_rest = list(set(yelp_df.url_total_rest))"
   ]
  },
  {
   "cell_type": "code",
   "execution_count": 34,
   "metadata": {},
   "outputs": [],
   "source": [
    "import csv"
   ]
  },
  {
   "cell_type": "code",
   "execution_count": 38,
   "metadata": {},
   "outputs": [
    {
     "data": {
      "text/plain": [
       "'https://www.yelp.com/search?find_loc=14432 78th Avenue, Queens, NY&cflt=restaurants'"
      ]
     },
     "execution_count": 38,
     "metadata": {},
     "output_type": "execute_result"
    }
   ],
   "source": [
    "urls_total_rest[5]"
   ]
  },
  {
   "cell_type": "code",
   "execution_count": 37,
   "metadata": {},
   "outputs": [],
   "source": [
    "\n",
    "\n",
    "# Open File\n",
    "resultFyle = open(\"all_links.csv\",'w')\n",
    "\n",
    "# Write data to file\n",
    "for r in urls_total_rest:\n",
    "    resultFyle.write(r + \"\\n\")\n",
    "resultFyle.close()"
   ]
  },
  {
   "cell_type": "code",
   "execution_count": null,
   "metadata": {},
   "outputs": [],
   "source": []
  }
 ],
 "metadata": {
  "kernelspec": {
   "display_name": "Python 3",
   "language": "python",
   "name": "python3"
  },
  "language_info": {
   "codemirror_mode": {
    "name": "ipython",
    "version": 3
   },
   "file_extension": ".py",
   "mimetype": "text/x-python",
   "name": "python",
   "nbconvert_exporter": "python",
   "pygments_lexer": "ipython3",
   "version": "3.6.4"
  }
 },
 "nbformat": 4,
 "nbformat_minor": 2
}
