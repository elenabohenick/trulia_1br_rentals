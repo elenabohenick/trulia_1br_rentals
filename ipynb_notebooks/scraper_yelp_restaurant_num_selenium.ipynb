{
 "cells": [
  {
   "cell_type": "code",
   "execution_count": 56,
   "metadata": {},
   "outputs": [],
   "source": [
    "import pandas as pd\n",
    "import numpy as np\n",
    "import json\n",
    "import re\n",
    "from selenium import webdriver\n",
    "from selenium.webdriver.common.keys import Keys\n",
    "from selenium.webdriver.support.ui import WebDriverWait \n",
    "from selenium.webdriver.chrome.options import Options\n",
    "import time\n",
    "import os\n",
    "import glob\n",
    "from collections import defaultdict"
   ]
  },
  {
   "cell_type": "code",
   "execution_count": 17,
   "metadata": {},
   "outputs": [],
   "source": [
    "# get addresses from trulia files\n",
    "df = pd.read_csv('../data/trulia_cleaned.csv')"
   ]
  },
  {
   "cell_type": "code",
   "execution_count": 19,
   "metadata": {},
   "outputs": [],
   "source": [
    "# function creates part of yelp url string\n",
    "\n",
    "def get_link_part(row):\n",
    "\n",
    "    address_string = row.replace(',','')\n",
    "    address_elements = address_string.split(' ')\n",
    "    adrs_part = ('+').join(address_elements)\n",
    "    return(adrs_part)"
   ]
  },
  {
   "cell_type": "code",
   "execution_count": 20,
   "metadata": {},
   "outputs": [],
   "source": [
    "df['adrs_part'] = df.address.apply(get_link_part)"
   ]
  },
  {
   "cell_type": "code",
   "execution_count": 21,
   "metadata": {},
   "outputs": [],
   "source": [
    "yelp_df = df[['url','address','adrs_part']].copy()"
   ]
  },
  {
   "cell_type": "code",
   "execution_count": 22,
   "metadata": {},
   "outputs": [
    {
     "data": {
      "text/html": [
       "<div>\n",
       "<style scoped>\n",
       "    .dataframe tbody tr th:only-of-type {\n",
       "        vertical-align: middle;\n",
       "    }\n",
       "\n",
       "    .dataframe tbody tr th {\n",
       "        vertical-align: top;\n",
       "    }\n",
       "\n",
       "    .dataframe thead th {\n",
       "        text-align: right;\n",
       "    }\n",
       "</style>\n",
       "<table border=\"1\" class=\"dataframe\">\n",
       "  <thead>\n",
       "    <tr style=\"text-align: right;\">\n",
       "      <th></th>\n",
       "      <th>url</th>\n",
       "      <th>address</th>\n",
       "      <th>adrs_part</th>\n",
       "    </tr>\n",
       "  </thead>\n",
       "  <tbody>\n",
       "    <tr>\n",
       "      <th>0</th>\n",
       "      <td>https://www.trulia.com/p/ny/manhattan/66-w-38t...</td>\n",
       "      <td>66 West 38th Street, Manhattan, NY</td>\n",
       "      <td>66+West+38th+Street+Manhattan+NY</td>\n",
       "    </tr>\n",
       "    <tr>\n",
       "      <th>1</th>\n",
       "      <td>https://www.trulia.com/p/ny/manhattan/435-w-45...</td>\n",
       "      <td>435 West 45th Street, Manhattan, NY</td>\n",
       "      <td>435+West+45th+Street+Manhattan+NY</td>\n",
       "    </tr>\n",
       "    <tr>\n",
       "      <th>2</th>\n",
       "      <td>https://www.trulia.com/p/ny/manhattan/56-w-11t...</td>\n",
       "      <td>56 West 11th Street, Manhattan, NY</td>\n",
       "      <td>56+West+11th+Street+Manhattan+NY</td>\n",
       "    </tr>\n",
       "    <tr>\n",
       "      <th>3</th>\n",
       "      <td>https://www.trulia.com/p/ny/manhattan/298-mulb...</td>\n",
       "      <td>298 Mulberry Street, Manhattan, NY</td>\n",
       "      <td>298+Mulberry+Street+Manhattan+NY</td>\n",
       "    </tr>\n",
       "    <tr>\n",
       "      <th>4</th>\n",
       "      <td>https://www.trulia.com/p/ny/manhattan/71-w-107...</td>\n",
       "      <td>71 West 107th Street, Manhattan, NY</td>\n",
       "      <td>71+West+107th+Street+Manhattan+NY</td>\n",
       "    </tr>\n",
       "    <tr>\n",
       "      <th>5</th>\n",
       "      <td>https://www.trulia.com/p/ny/manhattan/200-e-72...</td>\n",
       "      <td>200 East 72nd Street, Manhattan, NY</td>\n",
       "      <td>200+East+72nd+Street+Manhattan+NY</td>\n",
       "    </tr>\n",
       "    <tr>\n",
       "      <th>6</th>\n",
       "      <td>https://www.trulia.com/p/ny/new-york/516-e-78t...</td>\n",
       "      <td>516 East 78th Street, New York, NY</td>\n",
       "      <td>516+East+78th+Street+New+York+NY</td>\n",
       "    </tr>\n",
       "    <tr>\n",
       "      <th>7</th>\n",
       "      <td>https://www.trulia.com/p/ny/manhattan/175-w-95...</td>\n",
       "      <td>175 West 95th Street, Manhattan, NY</td>\n",
       "      <td>175+West+95th+Street+Manhattan+NY</td>\n",
       "    </tr>\n",
       "    <tr>\n",
       "      <th>8</th>\n",
       "      <td>https://www.trulia.com/p/ny/manhattan/95-e-7th...</td>\n",
       "      <td>95 East 7th Street, Manhattan, NY</td>\n",
       "      <td>95+East+7th+Street+Manhattan+NY</td>\n",
       "    </tr>\n",
       "    <tr>\n",
       "      <th>9</th>\n",
       "      <td>https://www.trulia.com/p/ny/manhattan/39-bedfo...</td>\n",
       "      <td>39 Bedford Street, Manhattan, NY</td>\n",
       "      <td>39+Bedford+Street+Manhattan+NY</td>\n",
       "    </tr>\n",
       "  </tbody>\n",
       "</table>\n",
       "</div>"
      ],
      "text/plain": [
       "                                                 url  \\\n",
       "0  https://www.trulia.com/p/ny/manhattan/66-w-38t...   \n",
       "1  https://www.trulia.com/p/ny/manhattan/435-w-45...   \n",
       "2  https://www.trulia.com/p/ny/manhattan/56-w-11t...   \n",
       "3  https://www.trulia.com/p/ny/manhattan/298-mulb...   \n",
       "4  https://www.trulia.com/p/ny/manhattan/71-w-107...   \n",
       "5  https://www.trulia.com/p/ny/manhattan/200-e-72...   \n",
       "6  https://www.trulia.com/p/ny/new-york/516-e-78t...   \n",
       "7  https://www.trulia.com/p/ny/manhattan/175-w-95...   \n",
       "8  https://www.trulia.com/p/ny/manhattan/95-e-7th...   \n",
       "9  https://www.trulia.com/p/ny/manhattan/39-bedfo...   \n",
       "\n",
       "                               address                          adrs_part  \n",
       "0   66 West 38th Street, Manhattan, NY   66+West+38th+Street+Manhattan+NY  \n",
       "1  435 West 45th Street, Manhattan, NY  435+West+45th+Street+Manhattan+NY  \n",
       "2   56 West 11th Street, Manhattan, NY   56+West+11th+Street+Manhattan+NY  \n",
       "3   298 Mulberry Street, Manhattan, NY   298+Mulberry+Street+Manhattan+NY  \n",
       "4  71 West 107th Street, Manhattan, NY  71+West+107th+Street+Manhattan+NY  \n",
       "5  200 East 72nd Street, Manhattan, NY  200+East+72nd+Street+Manhattan+NY  \n",
       "6   516 East 78th Street, New York, NY   516+East+78th+Street+New+York+NY  \n",
       "7  175 West 95th Street, Manhattan, NY  175+West+95th+Street+Manhattan+NY  \n",
       "8    95 East 7th Street, Manhattan, NY    95+East+7th+Street+Manhattan+NY  \n",
       "9     39 Bedford Street, Manhattan, NY     39+Bedford+Street+Manhattan+NY  "
      ]
     },
     "execution_count": 22,
     "metadata": {},
     "output_type": "execute_result"
    }
   ],
   "source": [
    "yelp_df.head(10)"
   ]
  },
  {
   "cell_type": "markdown",
   "metadata": {},
   "source": [
    "# Scraper "
   ]
  },
  {
   "cell_type": "code",
   "execution_count": 23,
   "metadata": {},
   "outputs": [],
   "source": [
    "def url_link(address):\n",
    "    url = \"https://www.yelp.com/search?find_loc=\" + address + \"&cflt=restaurants\"\n",
    "    return(url)"
   ]
  },
  {
   "cell_type": "code",
   "execution_count": 127,
   "metadata": {},
   "outputs": [],
   "source": [
    "def yelp_scraper(url):\n",
    "    driver.get(url)\n",
    "    # get total number of restaurants \n",
    "    total_rest_loc = '//span[contains(text(),\"Showing 1\")]'\n",
    "    total_rest_raw = driver.find_element_by_xpath(total_rest_loc).text\n",
    "    total_rest = int(re.sub(r'Showing 1.*of\\s','',total_rest_raw))\n",
    "    \n",
    "    button1 = driver.find_element_by_xpath('//span[@class=\"filter-label filters-toggle js-all-filters-toggle show-tooltip\"]')\n",
    "    button1.click()\n",
    "    time.sleep(1)\n",
    "    \n",
    "    button2 = driver.find_element_by_xpath('//span[contains(text(),\"Walking (1 mi.)\")]')\n",
    "    button2.click()\n",
    "    time.sleep(2)\n",
    "    \n",
    "    rest_num_loc = '//span[contains(text(),\"Showing 1\")]'\n",
    "    rest_num_raw = driver.find_element_by_xpath(rest_num_loc).text\n",
    "    rest_num = int(re.sub(r'Showing 1.*of\\s','',rest_num_raw))\n",
    "    \n",
    "    if total_rest==rest_num:\n",
    "        \n",
    "        button3 = driver.find_element_by_xpath('//span[contains(text(),\"Biking (2 mi.)\")]')\n",
    "        button3.click()\n",
    "        time.sleep(2)\n",
    "        \n",
    "        button4 = driver.find_element_by_xpath('//span[contains(text(),\"Walking (1 mi.)\")]')\n",
    "        button4.click()\n",
    "        time.sleep(2)\n",
    "        \n",
    "        rest_num_loc = '//span[contains(text(),\"Showing 1\")]'\n",
    "        rest_num_raw = driver.find_element_by_xpath(rest_num_loc).text\n",
    "        rest_num = int(re.sub(r'Showing 1.*of\\s','',rest_num_raw))\n",
    "\n",
    "        \n",
    "    return(rest_num)"
   ]
  },
  {
   "cell_type": "code",
   "execution_count": 25,
   "metadata": {},
   "outputs": [
    {
     "data": {
      "text/plain": [
       "4815"
      ]
     },
     "execution_count": 25,
     "metadata": {},
     "output_type": "execute_result"
    }
   ],
   "source": [
    "# create yelp links\n",
    "yelp_df['url_total_rest'] = yelp_df.address.apply(url_link)\n",
    "\n",
    "# get a list of unqiue addresses\n",
    "urls_total_rest = list(set(yelp_df.url_total_rest))\n",
    "len(urls_total_rest)"
   ]
  },
  {
   "cell_type": "code",
   "execution_count": 44,
   "metadata": {},
   "outputs": [],
   "source": [
    "# split list into smaller lists\n",
    "# cut_offs = list(np.arange(10, 4830, 10))\n",
    "\n",
    "# lol = []\n",
    "# i = 0\n",
    "# for c in cut_offs:\n",
    "#     list_slice = urls_total_rest[i:c]\n",
    "#     i = c\n",
    "#     lol.append(list_slice)"
   ]
  },
  {
   "cell_type": "code",
   "execution_count": null,
   "metadata": {},
   "outputs": [],
   "source": [
    "# 81, 92, 102, 106, 128, 164, 265"
   ]
  },
  {
   "cell_type": "code",
   "execution_count": null,
   "metadata": {},
   "outputs": [],
   "source": [
    "# Scrape!\n",
    "chromedriver = \"/Applications/chromedriver\" # path to the chromedriver executable\n",
    "os.environ[\"webdriver.chrome.driver\"] = chromedriver\n",
    "\n",
    "\n",
    "chrome_options = Options()\n",
    "# add headless mode\n",
    "chrome_options.add_argument(\"--headless\")\n",
    "# turn off image loading\n",
    "prefs = {\"profile.managed_default_content_settings.images\":2}\n",
    "chrome_options.add_experimental_option(\"prefs\",prefs)\n",
    "\n",
    "driver = webdriver.Chrome(chromedriver, chrome_options=chrome_options)\n",
    "\n",
    "for url_list in lol[316:]:\n",
    "    \n",
    "    yelp_data = defaultdict(list)\n",
    "    list_idx = lol.index(url_list)\n",
    "   \n",
    "    for url in url_list:\n",
    "        yelp_data[url] = yelp_scraper(url)\n",
    "        \n",
    "    json.dump(yelp_data, open(f'../data/yelp_json/yelp_{list_idx}.json', 'w'), indent=\"\\t\")\n",
    "    print(f'Scraped file {list_idx}')\n",
    "    \n",
    "driver.close()"
   ]
  },
  {
   "cell_type": "markdown",
   "metadata": {},
   "source": [
    "\n",
    "list_of_files = glob.glob('../data/yelp_json/*') # * means all if need specific format then *.csv\n",
    "latest_file = max(list_of_files, key=os.path.getctime)\n",
    "\n",
    "f = codecs.open(latest_file,'r','utf-8')\n",
    "f.name"
   ]
  }
 ],
 "metadata": {
  "kernelspec": {
   "display_name": "Python 3",
   "language": "python",
   "name": "python3"
  },
  "language_info": {
   "codemirror_mode": {
    "name": "ipython",
    "version": 3
   },
   "file_extension": ".py",
   "mimetype": "text/x-python",
   "name": "python",
   "nbconvert_exporter": "python",
   "pygments_lexer": "ipython3",
   "version": "3.6.4"
  }
 },
 "nbformat": 4,
 "nbformat_minor": 2
}
